{
 "cells": [
  {
   "cell_type": "markdown",
   "metadata": {},
   "source": [
    "# Before your start:\n",
    "\n",
    "    Read the README.md file\n",
    "    Comment as much as you can and use the resources (README.md file)\n",
    "    Happy learning!\n",
    "\n",
    "*Notes:* \n",
    "\n",
    "- Solve the questions with python.\n",
    "\n",
    "- Round the final answer to three decimal places."
   ]
  },
  {
   "cell_type": "code",
   "execution_count": 1,
   "metadata": {},
   "outputs": [],
   "source": [
    "import pandas as pd\n",
    "import numpy as np\n",
    "import matplotlib.pyplot as plt\n",
    "import random\n",
    "\n",
    "from scipy.stats import bernoulli, binom, geom, poisson, uniform, expon, norm"
   ]
  },
  {
   "cell_type": "markdown",
   "metadata": {},
   "source": [
    "## Bernoulli's Distribution\n",
    "\n",
    "In a basket containing 100 fruits, there are 60 apples and 40 oranges. \n",
    "\n",
    "A fruit is picked randomly from the basket. \n",
    "\n",
    "1. **What is the probability that the fruit is apple?**\n",
    "1. **What is the probability that it is an orange?**"
   ]
  },
  {
   "cell_type": "code",
   "execution_count": 2,
   "metadata": {},
   "outputs": [
    {
     "name": "stdout",
     "output_type": "stream",
     "text": [
      "The probability of picking an APPLE is 0.6\n",
      "The probability of picking an ORANGE is 0.4\n"
     ]
    }
   ],
   "source": [
    "# Calculate:\n",
    "# p = probability that the fruit is an apple \n",
    "# q = probability that the fruit is an orange\n",
    "\n",
    "p_apple = 0.6\n",
    "q_orange = 0.4\n",
    "\n",
    "bernoulli_dist_apple = bernoulli(p_apple)\n",
    "bernoulli_dist_orange = bernoulli(q_orange)\n",
    "\n",
    "print(f\"The probability of picking an APPLE is {bernoulli_dist_apple.pmf(1)}\")\n",
    "print(f\"The probability of picking an ORANGE is {bernoulli_dist_orange.pmf(1)}\")"
   ]
  },
  {
   "cell_type": "markdown",
   "metadata": {},
   "source": [
    "Now we take a random sample of 20 fruits from the basket. After each fruit is taken, a new fruit of the same type is replaced in the basket. Therefore, every time we are taking 1 fruit from 100 fruits. \n",
    "\n",
    "1. **What is the probability that the first 5 fruits are all apples?**\n",
    "\n",
    "1. **What is the probability that the first 5 fruits are all apples and the next 15 fruits are all oranges?**\n",
    "\n",
    "You can include the `p` and `q` probabilities you previous calculated in your solution."
   ]
  },
  {
   "cell_type": "code",
   "execution_count": 3,
   "metadata": {},
   "outputs": [
    {
     "name": "stdout",
     "output_type": "stream",
     "text": [
      "Probability of first 5 fruits being apples is 0.07775999999999998\n",
      "Probability of the next 15 being oranges is 1.0\n"
     ]
    }
   ],
   "source": [
    "p_apple = 0.6\n",
    "q_orange = 0.4\n",
    "n_apple = 5\n",
    "n_orange = 15\n",
    "\n",
    "\n",
    "\n",
    "binomial_dist_5_apple = binom(n_apple,p_apple)\n",
    "binomial_dist_15_orange = binom(n_orange,q_orange)\n",
    "\n",
    "print(f\"Probability of first 5 fruits being apples is {binomial_dist_5_apple.pmf(5)}\")\n",
    "print(f\"Probability of the next 15 being oranges is {binomial_dist_15_orange.cdf(15)}\")"
   ]
  },
  {
   "cell_type": "code",
   "execution_count": 4,
   "metadata": {},
   "outputs": [
    {
     "name": "stdout",
     "output_type": "stream",
     "text": [
      "Probability of the first 5 fruits being apples: 0.07775999999999998\n",
      "Probability of the next 15 fruits being oranges: 1.073741824000001e-06\n"
     ]
    }
   ],
   "source": [
    "p_apple = 0.6\n",
    "q_orange = 0.4\n",
    "n_apple = 5\n",
    "n_orange = 15\n",
    "\n",
    "## WHAT CHATGPT DID\n",
    "bernoulli_dist_5_apple = bernoulli(p_apple)\n",
    "prob_5_apples = bernoulli_dist_5_apple.pmf(1) ** n_apple\n",
    "print(f\"Probability of the first 5 fruits being apples: {prob_5_apples}\")\n",
    "\n",
    "bernoulli_dist_15_orange = bernoulli(q_orange)\n",
    "prob_15_oranges = bernoulli_dist_15_orange.pmf(1) ** n_orange\n",
    "print(f\"Probability of the next 15 fruits being oranges: {prob_15_oranges}\")"
   ]
  },
  {
   "cell_type": "markdown",
   "metadata": {},
   "source": [
    "---> I have no idea this is correct? doubts......"
   ]
  },
  {
   "cell_type": "markdown",
   "metadata": {},
   "source": [
    "## Binomial Distribution\n",
    "\n",
    "Similar to the above problem, this time again we randomly sample 20 fruits.\n",
    "\n",
    "**What is the probability that this time the sample contains 5 apples and 15 oranges?**\n",
    "\n",
    "Please note that this time the order of the fruits being picked does not matter."
   ]
  },
  {
   "cell_type": "code",
   "execution_count": 5,
   "metadata": {},
   "outputs": [
    {
     "name": "stdout",
     "output_type": "stream",
     "text": [
      "The probability of having 5 apples and 15 oranges in a sample of 100 fruits is 1.675713479244708e-06\n"
     ]
    }
   ],
   "source": [
    "p_apple = 0.6\n",
    "q_orange = 0.4\n",
    "n_apple = 5\n",
    "n_orange = 15\n",
    "n_total = 20\n",
    "\n",
    "binomial_dist_apple = binom(n_total,p_apple)\n",
    "binomial_dist_orange = binom(n_total, q_orange)\n",
    "\n",
    "prob_5_apples_15_oranges = binomial_dist_apple.pmf(5) * binomial_dist_orange.pmf(15)\n",
    "\n",
    "print(f\"The probability of having 5 apples and 15 oranges in a sample of 100 fruits is {prob_5_apples_15_oranges}\")"
   ]
  },
  {
   "cell_type": "markdown",
   "metadata": {},
   "source": [
    "In the lesson we also discussed CDF (cumulative distribution function). In the context of the above problem, **what is the probability that less than 5 fruits picked are apples?**\n",
    "\n",
    "Write the formula and calculate the probability below."
   ]
  },
  {
   "cell_type": "code",
   "execution_count": 6,
   "metadata": {},
   "outputs": [
    {
     "name": "stdout",
     "output_type": "stream",
     "text": [
      "The probability of less than 5 fruits collected are apples is 0.00031703112116863004\n"
     ]
    }
   ],
   "source": [
    "prob_less5_apple = binomial_dist_apple.cdf(4)\n",
    "\n",
    "print(f\"The probability of less than 5 fruits collected are apples is {prob_less5_apple}\")"
   ]
  },
  {
   "cell_type": "markdown",
   "metadata": {},
   "source": [
    "**Plot the PDF (probability distributiom function) for the above binomial distribution.**\n",
    "\n",
    "*Hint: The range of x in a binomial distribution is from `0` to `n`.*"
   ]
  },
  {
   "cell_type": "code",
   "execution_count": 11,
   "metadata": {},
   "outputs": [
    {
     "data": {
      "text/plain": [
       "0.0002696861504765956"
      ]
     },
     "execution_count": 11,
     "metadata": {},
     "output_type": "execute_result"
    }
   ],
   "source": [
    "# there isn't such a thing as pdf for binomial distribution, apparently?\n",
    "\n",
    "prob_less5_apple_pmf = binomial_dist_apple.pmf(4)\n",
    "\n",
    "prob_less5_apple_pmf"
   ]
  },
  {
   "cell_type": "markdown",
   "metadata": {},
   "source": [
    "## Poisson Distribution\n",
    "\n",
    "In this challenge you are required to use the Math library in python to solve the problems.\n",
    "\n",
    "In the UEFA champions league tournament, the average number of goals scored in a match is 2.3. \n",
    "\n",
    "**What is the probability that the number of goals scored in a match is 5?**\n",
    "\n",
    "*Hint: Use the exp() in the math library*\n",
    "\n",
    "And to calculate the factorial, you can use the following code:\n",
    "\n",
    "```python\n",
    "import math\n",
    "math.factorial(n) # n is the number you want to find the factorial of\n",
    "```"
   ]
  },
  {
   "cell_type": "code",
   "execution_count": 8,
   "metadata": {},
   "outputs": [],
   "source": [
    "import math"
   ]
  },
  {
   "cell_type": "code",
   "execution_count": 9,
   "metadata": {},
   "outputs": [
    {
     "name": "stdout",
     "output_type": "stream",
     "text": [
      "0.053775025581946814\n",
      "0.9700243063025452\n"
     ]
    }
   ],
   "source": [
    "mu_goals = 2.3\n",
    "poisson_goals = poisson(mu_goals)\n",
    "\n",
    "print(poisson_goals.pmf(5))\n",
    "\n",
    "print(poisson_goals.cdf(5))"
   ]
  },
  {
   "cell_type": "markdown",
   "metadata": {},
   "source": [
    "**Draw a poisson probability distribution plot for the number of goals to be between 0 to 10.**"
   ]
  },
  {
   "cell_type": "code",
   "execution_count": 10,
   "metadata": {},
   "outputs": [
    {
     "data": {
      "image/png": "[encoded data removed]",
      "text/plain": [
       "<Figure size 640x480 with 1 Axes>"
      ]
     },
     "metadata": {},
     "output_type": "display_data"
    },
    {
     "data": {
      "image/png": "[encoded data removed]",
      "text/plain": [
       "<Figure size 640x480 with 1 Axes>"
      ]
     },
     "metadata": {},
     "output_type": "display_data"
    }
   ],
   "source": [
    "X = np.arange(0,10)\n",
    "\n",
    "#pmf\n",
    "plt.plot(X, poisson_goals.pmf(X), \"o\")\n",
    "plt.show()\n",
    "\n",
    "#cdf\n",
    "plt.plot(X, poisson_goals.cdf(X), \"o\")\n",
    "plt.show()"
   ]
  }
 ],
 "metadata": {
  "kernelspec": {
   "display_name": "Python 3",
   "language": "python",
   "name": "python3"
  },
  "language_info": {
   "codemirror_mode": {
    "name": "ipython",
    "version": 3
   },
   "file_extension": ".py",
   "mimetype": "text/x-python",
   "name": "python",
   "nbconvert_exporter": "python",
   "pygments_lexer": "ipython3",
   "version": "3.11.5"
  }
 },
 "nbformat": 4,
 "nbformat_minor": 2
}
